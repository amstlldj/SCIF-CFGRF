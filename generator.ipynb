{
 "cells": [
  {
   "cell_type": "code",
   "execution_count": 1,
   "id": "2df527cb-b169-4461-b0e8-08dd8398ccaa",
   "metadata": {},
   "outputs": [],
   "source": [
    "from utils.engine import RFSampler\n",
    "from model.UNet import UNet\n",
    "import torch\n",
    "from utils.tools import save_sample_image, save_image, generator_parse_option, generate_batches\n",
    "from utils.filter import filter_images_by_cosine_similarity, check_image_counts, trim_images_to_x_per_class\n",
    "import torch\n",
    "from torch.utils.data import DataLoader\n",
    "import torchvision.transforms as transforms\n",
    "import torch.nn.functional as F\n",
    "import os\n",
    "import sys\n",
    "from utils.callbacks import set_seed\n",
    "from utils.RectifiedFlow import RectifiedFlow"
   ]
  },
  {
   "cell_type": "code",
   "execution_count": 2,
   "id": "ed5e003c-524a-4b5c-9c14-f62b383ac127",
   "metadata": {},
   "outputs": [],
   "source": [
    "set_seed(42)  # 设置随机种子为42"
   ]
  },
  {
   "cell_type": "code",
   "execution_count": 3,
   "id": "64018670-7bc0-48ce-a515-f4cae1225ce3",
   "metadata": {},
   "outputs": [],
   "source": [
    "# 模拟命令行输入\n",
    "sys.argv = [\n",
    "    'generate.py', \n",
    "    '-cp', 'checkpoint/cwru_rf/cwru_rf_br1_5_500epoch.pth', \n",
    "    '--device', 'cuda', \n",
    "    '--sampler', 'rf', \n",
    "    '--model', 'unet',\n",
    "    '-bs', '64', \n",
    "    '--interval', '5', \n",
    "    '--eta', '0.0', \n",
    "    '--steps', '10', \n",
    "    '--method', 'quadratic', \n",
    "    '--nrow', '25', \n",
    "    '-sp', 'data/cwru_rf_result/cwru_sampler_br1_5_500epoch', \n",
    "    '-if', 'data/cwru/test',\n",
    "    '-mp', 'checkpoint/cwru_rf/match_list.pth',\n",
    "    '--cosine_threshold', '0.85',\n",
    "    '--num_batches', '10',\n",
    "    '--cfg_scale', '1.0',\n",
    "    '--target_class_count', '2000',\n",
    "    '--num_classes', '10'\n",
    "]"
   ]
  },
  {
   "cell_type": "code",
   "execution_count": 4,
   "id": "799c2b02-0bf1-4f30-b72c-dd0bbfcf5abf",
   "metadata": {},
   "outputs": [],
   "source": [
    "@torch.no_grad()\n",
    "def generate(args):  \n",
    "    device = torch.device(args.device)\n",
    "\n",
    "    # Load checkpoint\n",
    "    cp = torch.load(args.checkpoint_path)\n",
    "    # Load trained model\n",
    "    if args.model == 'unet':\n",
    "       model = UNet(**cp[\"config\"][\"Model\"])\n",
    "    model.load_state_dict(cp[\"model\"])\n",
    "    model.to(device)\n",
    "    model.eval()\n",
    "\n",
    "    if args.sampler == \"rf\":\n",
    "       sampler = RFSampler(model).to(device)\n",
    "       extra_param = dict(steps=args.steps, cfg_scale = args.cfg_scale)\n",
    "       match_list = []\n",
    "    else:\n",
    "        raise ValueError(f\"Unknown sampler: {args.sampler}\")\n",
    "\n",
    "    # Initialize a dictionary to track the number of images generated for each class\n",
    "    generated_class_counts = {i: 0 for i in range(args.num_classes)}\n",
    "    \n",
    "    # Calculate how many batches you want to generate\n",
    "    num_batches = args.num_batches  # Specify how many batches you want to generate\n",
    "    labels = generate_batches(num_batches, cp[\"config\"][\"Dataset\"][\"batch_size\"], args.num_classes)\n",
    "    for batch_idx in range(num_batches):\n",
    "        print(f\"Generating batch {batch_idx + 1}/{num_batches}...\")\n",
    "\n",
    "        # Generate new Gaussian noise for each batch to increase diversity\n",
    "        z_t = torch.randn((args.batch_size, cp[\"config\"][\"Model\"][\"in_channels\"],\n",
    "                           *cp[\"config\"][\"Dataset\"][\"image_size\"]), device=device)\n",
    "\n",
    "        # Generate images using the sampler\n",
    "        x, label = sampler(z_t, batch_idx, labels, only_return_x_0=args.result_only, interval=args.interval, **extra_param)\n",
    "        print(f\"Generated {x.shape[0]} images of size {x.shape[1:]}\")\n",
    "\n",
    "        # Save generated images based on the result flag\n",
    "        if args.result_only:\n",
    "            # Save images for each batch, passing the batch_idx\n",
    "            save_image(x, labels=label, nrow=args.nrow, show=args.show, \n",
    "                       path=args.image_save_path, to_grayscale=args.to_grayscale, batch_idx=batch_idx)\n",
    "        else:\n",
    "            # Save intermediate images for each batch\n",
    "            save_sample_image(x, labels=label, show=args.show, \n",
    "                              path=args.image_save_path, to_grayscale=args.to_grayscale, batch_idx=batch_idx, \n",
    "                              save_as_gif=args.gif, gif_duration=args.gif_speed, max_steps=args.max_steps)\n",
    "\n",
    "        if args.result_only == True:\n",
    "            filter_images_by_cosine_similarity(args.original_image_folder, args.image_save_path, batch_id=batch_idx, num_classes=args.num_classes, threshold=args.cosine_threshold)\n",
    "        \n",
    "        # 在调用 check_image_counts 前打印一些信息\n",
    "        print(f\"检查图像数量：{args.image_save_path}\")\n",
    "        if check_image_counts(args.image_save_path, args.target_class_count, args.num_classes):\n",
    "            print(f\"所有类别图像数均超过 {args.target_class_count}，终止生成。\")\n",
    "            break  # 退出外层循环\n",
    "        if args.sampler == \"rf\":\n",
    "            match = (x,z_t,label)\n",
    "            match_list.append(match)\n",
    "\n",
    "    if args.result_only == True:\n",
    "       # 在生成后检查并删减多余图像\n",
    "       trim_images_to_x_per_class(args.image_save_path, args.target_class_count, args.num_classes)\n",
    "    if args.sampler == \"rf\":\n",
    "       torch.save(match_list,args.match_save_path)\n",
    "        \n"
   ]
  },
  {
   "cell_type": "code",
   "execution_count": 5,
   "id": "3593bbed-170f-4557-9a7d-52a2e450f6e5",
   "metadata": {},
   "outputs": [
    {
     "name": "stdout",
     "output_type": "stream",
     "text": [
      "Generating batch 1/10...\n"
     ]
    },
    {
     "name": "stderr",
     "output_type": "stream",
     "text": [
      "100%|\u001b[38;2;101;101;181m██████████\u001b[0m| 10/10 [00:03<00:00,  2.55it/s, step=1, sample=1]\n"
     ]
    },
    {
     "name": "stdout",
     "output_type": "stream",
     "text": [
      "Generated 64 images of size torch.Size([3, 32, 32])\n",
      "文件夹不存在，跳过类 0：data/cwru/test\\0 或 data/cwru_rf_result/cwru_sampler_br1_5_500epoch\\0\n",
      "文件夹不存在，跳过类 1：data/cwru/test\\1 或 data/cwru_rf_result/cwru_sampler_br1_5_500epoch\\1\n",
      "文件夹不存在，跳过类 2：data/cwru/test\\2 或 data/cwru_rf_result/cwru_sampler_br1_5_500epoch\\2\n",
      "文件夹不存在，跳过类 3：data/cwru/test\\3 或 data/cwru_rf_result/cwru_sampler_br1_5_500epoch\\3\n",
      "文件夹不存在，跳过类 4：data/cwru/test\\4 或 data/cwru_rf_result/cwru_sampler_br1_5_500epoch\\4\n",
      "文件夹不存在，跳过类 5：data/cwru/test\\5 或 data/cwru_rf_result/cwru_sampler_br1_5_500epoch\\5\n",
      "文件夹不存在，跳过类 6：data/cwru/test\\6 或 data/cwru_rf_result/cwru_sampler_br1_5_500epoch\\6\n",
      "文件夹不存在，跳过类 7：data/cwru/test\\7 或 data/cwru_rf_result/cwru_sampler_br1_5_500epoch\\7\n",
      "文件夹不存在，跳过类 8：data/cwru/test\\8 或 data/cwru_rf_result/cwru_sampler_br1_5_500epoch\\8\n",
      "文件夹不存在，跳过类 9：data/cwru/test\\9 或 data/cwru_rf_result/cwru_sampler_br1_5_500epoch\\9\n",
      "共删除 0 张生成图片。\n",
      "检查图像数量：data/cwru_rf_result/cwru_sampler_br1_5_500epoch\n",
      "类别 0 图像数: 64\n",
      "Warning: 文件夹 data/cwru_rf_result/cwru_sampler_br1_5_500epoch\\1 不存在！\n",
      "Warning: 文件夹 data/cwru_rf_result/cwru_sampler_br1_5_500epoch\\2 不存在！\n",
      "Warning: 文件夹 data/cwru_rf_result/cwru_sampler_br1_5_500epoch\\3 不存在！\n",
      "Warning: 文件夹 data/cwru_rf_result/cwru_sampler_br1_5_500epoch\\4 不存在！\n",
      "Warning: 文件夹 data/cwru_rf_result/cwru_sampler_br1_5_500epoch\\5 不存在！\n",
      "Warning: 文件夹 data/cwru_rf_result/cwru_sampler_br1_5_500epoch\\6 不存在！\n",
      "Warning: 文件夹 data/cwru_rf_result/cwru_sampler_br1_5_500epoch\\7 不存在！\n",
      "Warning: 文件夹 data/cwru_rf_result/cwru_sampler_br1_5_500epoch\\8 不存在！\n",
      "Warning: 文件夹 data/cwru_rf_result/cwru_sampler_br1_5_500epoch\\9 不存在！\n",
      "Generating batch 2/10...\n"
     ]
    },
    {
     "name": "stderr",
     "output_type": "stream",
     "text": [
      "100%|\u001b[38;2;101;101;181m██████████\u001b[0m| 10/10 [00:03<00:00,  2.67it/s, step=1, sample=1]\n"
     ]
    },
    {
     "name": "stdout",
     "output_type": "stream",
     "text": [
      "Generated 64 images of size torch.Size([3, 32, 32])\n",
      "文件夹不存在，跳过类 0：data/cwru/test\\0 或 data/cwru_rf_result/cwru_sampler_br1_5_500epoch\\0\n",
      "文件夹不存在，跳过类 1：data/cwru/test\\1 或 data/cwru_rf_result/cwru_sampler_br1_5_500epoch\\1\n",
      "文件夹不存在，跳过类 2：data/cwru/test\\2 或 data/cwru_rf_result/cwru_sampler_br1_5_500epoch\\2\n",
      "文件夹不存在，跳过类 3：data/cwru/test\\3 或 data/cwru_rf_result/cwru_sampler_br1_5_500epoch\\3\n",
      "文件夹不存在，跳过类 4：data/cwru/test\\4 或 data/cwru_rf_result/cwru_sampler_br1_5_500epoch\\4\n",
      "文件夹不存在，跳过类 5：data/cwru/test\\5 或 data/cwru_rf_result/cwru_sampler_br1_5_500epoch\\5\n",
      "文件夹不存在，跳过类 6：data/cwru/test\\6 或 data/cwru_rf_result/cwru_sampler_br1_5_500epoch\\6\n",
      "文件夹不存在，跳过类 7：data/cwru/test\\7 或 data/cwru_rf_result/cwru_sampler_br1_5_500epoch\\7\n",
      "文件夹不存在，跳过类 8：data/cwru/test\\8 或 data/cwru_rf_result/cwru_sampler_br1_5_500epoch\\8\n",
      "文件夹不存在，跳过类 9：data/cwru/test\\9 或 data/cwru_rf_result/cwru_sampler_br1_5_500epoch\\9\n",
      "共删除 0 张生成图片。\n",
      "检查图像数量：data/cwru_rf_result/cwru_sampler_br1_5_500epoch\n",
      "类别 0 图像数: 64\n",
      "类别 1 图像数: 64\n",
      "Warning: 文件夹 data/cwru_rf_result/cwru_sampler_br1_5_500epoch\\2 不存在！\n",
      "Warning: 文件夹 data/cwru_rf_result/cwru_sampler_br1_5_500epoch\\3 不存在！\n",
      "Warning: 文件夹 data/cwru_rf_result/cwru_sampler_br1_5_500epoch\\4 不存在！\n",
      "Warning: 文件夹 data/cwru_rf_result/cwru_sampler_br1_5_500epoch\\5 不存在！\n",
      "Warning: 文件夹 data/cwru_rf_result/cwru_sampler_br1_5_500epoch\\6 不存在！\n",
      "Warning: 文件夹 data/cwru_rf_result/cwru_sampler_br1_5_500epoch\\7 不存在！\n",
      "Warning: 文件夹 data/cwru_rf_result/cwru_sampler_br1_5_500epoch\\8 不存在！\n",
      "Warning: 文件夹 data/cwru_rf_result/cwru_sampler_br1_5_500epoch\\9 不存在！\n",
      "Generating batch 3/10...\n"
     ]
    },
    {
     "name": "stderr",
     "output_type": "stream",
     "text": [
      "100%|\u001b[38;2;101;101;181m██████████\u001b[0m| 10/10 [00:03<00:00,  2.66it/s, step=1, sample=1]\n"
     ]
    },
    {
     "name": "stdout",
     "output_type": "stream",
     "text": [
      "Generated 64 images of size torch.Size([3, 32, 32])\n",
      "文件夹不存在，跳过类 0：data/cwru/test\\0 或 data/cwru_rf_result/cwru_sampler_br1_5_500epoch\\0\n",
      "文件夹不存在，跳过类 1：data/cwru/test\\1 或 data/cwru_rf_result/cwru_sampler_br1_5_500epoch\\1\n",
      "文件夹不存在，跳过类 2：data/cwru/test\\2 或 data/cwru_rf_result/cwru_sampler_br1_5_500epoch\\2\n",
      "文件夹不存在，跳过类 3：data/cwru/test\\3 或 data/cwru_rf_result/cwru_sampler_br1_5_500epoch\\3\n",
      "文件夹不存在，跳过类 4：data/cwru/test\\4 或 data/cwru_rf_result/cwru_sampler_br1_5_500epoch\\4\n",
      "文件夹不存在，跳过类 5：data/cwru/test\\5 或 data/cwru_rf_result/cwru_sampler_br1_5_500epoch\\5\n",
      "文件夹不存在，跳过类 6：data/cwru/test\\6 或 data/cwru_rf_result/cwru_sampler_br1_5_500epoch\\6\n",
      "文件夹不存在，跳过类 7：data/cwru/test\\7 或 data/cwru_rf_result/cwru_sampler_br1_5_500epoch\\7\n",
      "文件夹不存在，跳过类 8：data/cwru/test\\8 或 data/cwru_rf_result/cwru_sampler_br1_5_500epoch\\8\n",
      "文件夹不存在，跳过类 9：data/cwru/test\\9 或 data/cwru_rf_result/cwru_sampler_br1_5_500epoch\\9\n",
      "共删除 0 张生成图片。\n",
      "检查图像数量：data/cwru_rf_result/cwru_sampler_br1_5_500epoch\n",
      "类别 0 图像数: 64\n",
      "类别 1 图像数: 64\n",
      "类别 2 图像数: 64\n",
      "Warning: 文件夹 data/cwru_rf_result/cwru_sampler_br1_5_500epoch\\3 不存在！\n",
      "Warning: 文件夹 data/cwru_rf_result/cwru_sampler_br1_5_500epoch\\4 不存在！\n",
      "Warning: 文件夹 data/cwru_rf_result/cwru_sampler_br1_5_500epoch\\5 不存在！\n",
      "Warning: 文件夹 data/cwru_rf_result/cwru_sampler_br1_5_500epoch\\6 不存在！\n",
      "Warning: 文件夹 data/cwru_rf_result/cwru_sampler_br1_5_500epoch\\7 不存在！\n",
      "Warning: 文件夹 data/cwru_rf_result/cwru_sampler_br1_5_500epoch\\8 不存在！\n",
      "Warning: 文件夹 data/cwru_rf_result/cwru_sampler_br1_5_500epoch\\9 不存在！\n",
      "Generating batch 4/10...\n"
     ]
    },
    {
     "name": "stderr",
     "output_type": "stream",
     "text": [
      "100%|\u001b[38;2;101;101;181m██████████\u001b[0m| 10/10 [00:03<00:00,  2.68it/s, step=1, sample=1]\n"
     ]
    },
    {
     "name": "stdout",
     "output_type": "stream",
     "text": [
      "Generated 64 images of size torch.Size([3, 32, 32])\n",
      "文件夹不存在，跳过类 0：data/cwru/test\\0 或 data/cwru_rf_result/cwru_sampler_br1_5_500epoch\\0\n",
      "文件夹不存在，跳过类 1：data/cwru/test\\1 或 data/cwru_rf_result/cwru_sampler_br1_5_500epoch\\1\n",
      "文件夹不存在，跳过类 2：data/cwru/test\\2 或 data/cwru_rf_result/cwru_sampler_br1_5_500epoch\\2\n",
      "文件夹不存在，跳过类 3：data/cwru/test\\3 或 data/cwru_rf_result/cwru_sampler_br1_5_500epoch\\3\n",
      "文件夹不存在，跳过类 4：data/cwru/test\\4 或 data/cwru_rf_result/cwru_sampler_br1_5_500epoch\\4\n",
      "文件夹不存在，跳过类 5：data/cwru/test\\5 或 data/cwru_rf_result/cwru_sampler_br1_5_500epoch\\5\n",
      "文件夹不存在，跳过类 6：data/cwru/test\\6 或 data/cwru_rf_result/cwru_sampler_br1_5_500epoch\\6\n",
      "文件夹不存在，跳过类 7：data/cwru/test\\7 或 data/cwru_rf_result/cwru_sampler_br1_5_500epoch\\7\n",
      "文件夹不存在，跳过类 8：data/cwru/test\\8 或 data/cwru_rf_result/cwru_sampler_br1_5_500epoch\\8\n",
      "文件夹不存在，跳过类 9：data/cwru/test\\9 或 data/cwru_rf_result/cwru_sampler_br1_5_500epoch\\9\n",
      "共删除 0 张生成图片。\n",
      "检查图像数量：data/cwru_rf_result/cwru_sampler_br1_5_500epoch\n",
      "类别 0 图像数: 64\n",
      "类别 1 图像数: 64\n",
      "类别 2 图像数: 64\n",
      "类别 3 图像数: 64\n",
      "Warning: 文件夹 data/cwru_rf_result/cwru_sampler_br1_5_500epoch\\4 不存在！\n",
      "Warning: 文件夹 data/cwru_rf_result/cwru_sampler_br1_5_500epoch\\5 不存在！\n",
      "Warning: 文件夹 data/cwru_rf_result/cwru_sampler_br1_5_500epoch\\6 不存在！\n",
      "Warning: 文件夹 data/cwru_rf_result/cwru_sampler_br1_5_500epoch\\7 不存在！\n",
      "Warning: 文件夹 data/cwru_rf_result/cwru_sampler_br1_5_500epoch\\8 不存在！\n",
      "Warning: 文件夹 data/cwru_rf_result/cwru_sampler_br1_5_500epoch\\9 不存在！\n",
      "Generating batch 5/10...\n"
     ]
    },
    {
     "name": "stderr",
     "output_type": "stream",
     "text": [
      "100%|\u001b[38;2;101;101;181m██████████\u001b[0m| 10/10 [00:03<00:00,  2.62it/s, step=1, sample=1]\n"
     ]
    },
    {
     "name": "stdout",
     "output_type": "stream",
     "text": [
      "Generated 64 images of size torch.Size([3, 32, 32])\n",
      "文件夹不存在，跳过类 0：data/cwru/test\\0 或 data/cwru_rf_result/cwru_sampler_br1_5_500epoch\\0\n",
      "文件夹不存在，跳过类 1：data/cwru/test\\1 或 data/cwru_rf_result/cwru_sampler_br1_5_500epoch\\1\n",
      "文件夹不存在，跳过类 2：data/cwru/test\\2 或 data/cwru_rf_result/cwru_sampler_br1_5_500epoch\\2\n",
      "文件夹不存在，跳过类 3：data/cwru/test\\3 或 data/cwru_rf_result/cwru_sampler_br1_5_500epoch\\3\n",
      "文件夹不存在，跳过类 4：data/cwru/test\\4 或 data/cwru_rf_result/cwru_sampler_br1_5_500epoch\\4\n",
      "文件夹不存在，跳过类 5：data/cwru/test\\5 或 data/cwru_rf_result/cwru_sampler_br1_5_500epoch\\5\n",
      "文件夹不存在，跳过类 6：data/cwru/test\\6 或 data/cwru_rf_result/cwru_sampler_br1_5_500epoch\\6\n",
      "文件夹不存在，跳过类 7：data/cwru/test\\7 或 data/cwru_rf_result/cwru_sampler_br1_5_500epoch\\7\n",
      "文件夹不存在，跳过类 8：data/cwru/test\\8 或 data/cwru_rf_result/cwru_sampler_br1_5_500epoch\\8\n",
      "文件夹不存在，跳过类 9：data/cwru/test\\9 或 data/cwru_rf_result/cwru_sampler_br1_5_500epoch\\9\n",
      "共删除 0 张生成图片。\n",
      "检查图像数量：data/cwru_rf_result/cwru_sampler_br1_5_500epoch\n",
      "类别 0 图像数: 64\n",
      "类别 1 图像数: 64\n",
      "类别 2 图像数: 64\n",
      "类别 3 图像数: 64\n",
      "类别 4 图像数: 64\n",
      "Warning: 文件夹 data/cwru_rf_result/cwru_sampler_br1_5_500epoch\\5 不存在！\n",
      "Warning: 文件夹 data/cwru_rf_result/cwru_sampler_br1_5_500epoch\\6 不存在！\n",
      "Warning: 文件夹 data/cwru_rf_result/cwru_sampler_br1_5_500epoch\\7 不存在！\n",
      "Warning: 文件夹 data/cwru_rf_result/cwru_sampler_br1_5_500epoch\\8 不存在！\n",
      "Warning: 文件夹 data/cwru_rf_result/cwru_sampler_br1_5_500epoch\\9 不存在！\n",
      "Generating batch 6/10...\n"
     ]
    },
    {
     "name": "stderr",
     "output_type": "stream",
     "text": [
      "100%|\u001b[38;2;101;101;181m██████████\u001b[0m| 10/10 [00:03<00:00,  2.67it/s, step=1, sample=1]\n"
     ]
    },
    {
     "name": "stdout",
     "output_type": "stream",
     "text": [
      "Generated 64 images of size torch.Size([3, 32, 32])\n",
      "文件夹不存在，跳过类 0：data/cwru/test\\0 或 data/cwru_rf_result/cwru_sampler_br1_5_500epoch\\0\n",
      "文件夹不存在，跳过类 1：data/cwru/test\\1 或 data/cwru_rf_result/cwru_sampler_br1_5_500epoch\\1\n",
      "文件夹不存在，跳过类 2：data/cwru/test\\2 或 data/cwru_rf_result/cwru_sampler_br1_5_500epoch\\2\n",
      "文件夹不存在，跳过类 3：data/cwru/test\\3 或 data/cwru_rf_result/cwru_sampler_br1_5_500epoch\\3\n",
      "文件夹不存在，跳过类 4：data/cwru/test\\4 或 data/cwru_rf_result/cwru_sampler_br1_5_500epoch\\4\n",
      "文件夹不存在，跳过类 5：data/cwru/test\\5 或 data/cwru_rf_result/cwru_sampler_br1_5_500epoch\\5\n",
      "文件夹不存在，跳过类 6：data/cwru/test\\6 或 data/cwru_rf_result/cwru_sampler_br1_5_500epoch\\6\n",
      "文件夹不存在，跳过类 7：data/cwru/test\\7 或 data/cwru_rf_result/cwru_sampler_br1_5_500epoch\\7\n",
      "文件夹不存在，跳过类 8：data/cwru/test\\8 或 data/cwru_rf_result/cwru_sampler_br1_5_500epoch\\8\n",
      "文件夹不存在，跳过类 9：data/cwru/test\\9 或 data/cwru_rf_result/cwru_sampler_br1_5_500epoch\\9\n",
      "共删除 0 张生成图片。\n",
      "检查图像数量：data/cwru_rf_result/cwru_sampler_br1_5_500epoch\n",
      "类别 0 图像数: 64\n",
      "类别 1 图像数: 64\n",
      "类别 2 图像数: 64\n",
      "类别 3 图像数: 64\n",
      "类别 4 图像数: 64\n",
      "类别 5 图像数: 64\n",
      "Warning: 文件夹 data/cwru_rf_result/cwru_sampler_br1_5_500epoch\\6 不存在！\n",
      "Warning: 文件夹 data/cwru_rf_result/cwru_sampler_br1_5_500epoch\\7 不存在！\n",
      "Warning: 文件夹 data/cwru_rf_result/cwru_sampler_br1_5_500epoch\\8 不存在！\n",
      "Warning: 文件夹 data/cwru_rf_result/cwru_sampler_br1_5_500epoch\\9 不存在！\n",
      "Generating batch 7/10...\n"
     ]
    },
    {
     "name": "stderr",
     "output_type": "stream",
     "text": [
      "100%|\u001b[38;2;101;101;181m██████████\u001b[0m| 10/10 [00:03<00:00,  2.67it/s, step=1, sample=1]\n"
     ]
    },
    {
     "name": "stdout",
     "output_type": "stream",
     "text": [
      "Generated 64 images of size torch.Size([3, 32, 32])\n",
      "文件夹不存在，跳过类 0：data/cwru/test\\0 或 data/cwru_rf_result/cwru_sampler_br1_5_500epoch\\0\n",
      "文件夹不存在，跳过类 1：data/cwru/test\\1 或 data/cwru_rf_result/cwru_sampler_br1_5_500epoch\\1\n",
      "文件夹不存在，跳过类 2：data/cwru/test\\2 或 data/cwru_rf_result/cwru_sampler_br1_5_500epoch\\2\n",
      "文件夹不存在，跳过类 3：data/cwru/test\\3 或 data/cwru_rf_result/cwru_sampler_br1_5_500epoch\\3\n",
      "文件夹不存在，跳过类 4：data/cwru/test\\4 或 data/cwru_rf_result/cwru_sampler_br1_5_500epoch\\4\n",
      "文件夹不存在，跳过类 5：data/cwru/test\\5 或 data/cwru_rf_result/cwru_sampler_br1_5_500epoch\\5\n",
      "文件夹不存在，跳过类 6：data/cwru/test\\6 或 data/cwru_rf_result/cwru_sampler_br1_5_500epoch\\6\n",
      "文件夹不存在，跳过类 7：data/cwru/test\\7 或 data/cwru_rf_result/cwru_sampler_br1_5_500epoch\\7\n",
      "文件夹不存在，跳过类 8：data/cwru/test\\8 或 data/cwru_rf_result/cwru_sampler_br1_5_500epoch\\8\n",
      "文件夹不存在，跳过类 9：data/cwru/test\\9 或 data/cwru_rf_result/cwru_sampler_br1_5_500epoch\\9\n",
      "共删除 0 张生成图片。\n",
      "检查图像数量：data/cwru_rf_result/cwru_sampler_br1_5_500epoch\n",
      "类别 0 图像数: 64\n",
      "类别 1 图像数: 64\n",
      "类别 2 图像数: 64\n",
      "类别 3 图像数: 64\n",
      "类别 4 图像数: 64\n",
      "类别 5 图像数: 64\n",
      "类别 6 图像数: 64\n",
      "Warning: 文件夹 data/cwru_rf_result/cwru_sampler_br1_5_500epoch\\7 不存在！\n",
      "Warning: 文件夹 data/cwru_rf_result/cwru_sampler_br1_5_500epoch\\8 不存在！\n",
      "Warning: 文件夹 data/cwru_rf_result/cwru_sampler_br1_5_500epoch\\9 不存在！\n",
      "Generating batch 8/10...\n"
     ]
    },
    {
     "name": "stderr",
     "output_type": "stream",
     "text": [
      "100%|\u001b[38;2;101;101;181m██████████\u001b[0m| 10/10 [00:03<00:00,  2.67it/s, step=1, sample=1]\n"
     ]
    },
    {
     "name": "stdout",
     "output_type": "stream",
     "text": [
      "Generated 64 images of size torch.Size([3, 32, 32])\n",
      "文件夹不存在，跳过类 0：data/cwru/test\\0 或 data/cwru_rf_result/cwru_sampler_br1_5_500epoch\\0\n",
      "文件夹不存在，跳过类 1：data/cwru/test\\1 或 data/cwru_rf_result/cwru_sampler_br1_5_500epoch\\1\n",
      "文件夹不存在，跳过类 2：data/cwru/test\\2 或 data/cwru_rf_result/cwru_sampler_br1_5_500epoch\\2\n",
      "文件夹不存在，跳过类 3：data/cwru/test\\3 或 data/cwru_rf_result/cwru_sampler_br1_5_500epoch\\3\n",
      "文件夹不存在，跳过类 4：data/cwru/test\\4 或 data/cwru_rf_result/cwru_sampler_br1_5_500epoch\\4\n",
      "文件夹不存在，跳过类 5：data/cwru/test\\5 或 data/cwru_rf_result/cwru_sampler_br1_5_500epoch\\5\n",
      "文件夹不存在，跳过类 6：data/cwru/test\\6 或 data/cwru_rf_result/cwru_sampler_br1_5_500epoch\\6\n",
      "文件夹不存在，跳过类 7：data/cwru/test\\7 或 data/cwru_rf_result/cwru_sampler_br1_5_500epoch\\7\n",
      "文件夹不存在，跳过类 8：data/cwru/test\\8 或 data/cwru_rf_result/cwru_sampler_br1_5_500epoch\\8\n",
      "文件夹不存在，跳过类 9：data/cwru/test\\9 或 data/cwru_rf_result/cwru_sampler_br1_5_500epoch\\9\n",
      "共删除 0 张生成图片。\n",
      "检查图像数量：data/cwru_rf_result/cwru_sampler_br1_5_500epoch\n",
      "类别 0 图像数: 64\n",
      "类别 1 图像数: 64\n",
      "类别 2 图像数: 64\n",
      "类别 3 图像数: 64\n",
      "类别 4 图像数: 64\n",
      "类别 5 图像数: 64\n",
      "类别 6 图像数: 64\n",
      "类别 7 图像数: 64\n",
      "Warning: 文件夹 data/cwru_rf_result/cwru_sampler_br1_5_500epoch\\8 不存在！\n",
      "Warning: 文件夹 data/cwru_rf_result/cwru_sampler_br1_5_500epoch\\9 不存在！\n",
      "Generating batch 9/10...\n"
     ]
    },
    {
     "name": "stderr",
     "output_type": "stream",
     "text": [
      "100%|\u001b[38;2;101;101;181m██████████\u001b[0m| 10/10 [00:03<00:00,  2.67it/s, step=1, sample=1]\n"
     ]
    },
    {
     "name": "stdout",
     "output_type": "stream",
     "text": [
      "Generated 64 images of size torch.Size([3, 32, 32])\n",
      "文件夹不存在，跳过类 0：data/cwru/test\\0 或 data/cwru_rf_result/cwru_sampler_br1_5_500epoch\\0\n",
      "文件夹不存在，跳过类 1：data/cwru/test\\1 或 data/cwru_rf_result/cwru_sampler_br1_5_500epoch\\1\n",
      "文件夹不存在，跳过类 2：data/cwru/test\\2 或 data/cwru_rf_result/cwru_sampler_br1_5_500epoch\\2\n",
      "文件夹不存在，跳过类 3：data/cwru/test\\3 或 data/cwru_rf_result/cwru_sampler_br1_5_500epoch\\3\n",
      "文件夹不存在，跳过类 4：data/cwru/test\\4 或 data/cwru_rf_result/cwru_sampler_br1_5_500epoch\\4\n",
      "文件夹不存在，跳过类 5：data/cwru/test\\5 或 data/cwru_rf_result/cwru_sampler_br1_5_500epoch\\5\n",
      "文件夹不存在，跳过类 6：data/cwru/test\\6 或 data/cwru_rf_result/cwru_sampler_br1_5_500epoch\\6\n",
      "文件夹不存在，跳过类 7：data/cwru/test\\7 或 data/cwru_rf_result/cwru_sampler_br1_5_500epoch\\7\n",
      "文件夹不存在，跳过类 8：data/cwru/test\\8 或 data/cwru_rf_result/cwru_sampler_br1_5_500epoch\\8\n",
      "文件夹不存在，跳过类 9：data/cwru/test\\9 或 data/cwru_rf_result/cwru_sampler_br1_5_500epoch\\9\n",
      "共删除 0 张生成图片。\n",
      "检查图像数量：data/cwru_rf_result/cwru_sampler_br1_5_500epoch\n",
      "类别 0 图像数: 64\n",
      "类别 1 图像数: 64\n",
      "类别 2 图像数: 64\n",
      "类别 3 图像数: 64\n",
      "类别 4 图像数: 64\n",
      "类别 5 图像数: 64\n",
      "类别 6 图像数: 64\n",
      "类别 7 图像数: 64\n",
      "类别 8 图像数: 64\n",
      "Warning: 文件夹 data/cwru_rf_result/cwru_sampler_br1_5_500epoch\\9 不存在！\n",
      "Generating batch 10/10...\n"
     ]
    },
    {
     "name": "stderr",
     "output_type": "stream",
     "text": [
      "100%|\u001b[38;2;101;101;181m██████████\u001b[0m| 10/10 [00:03<00:00,  2.66it/s, step=1, sample=1]\n"
     ]
    },
    {
     "name": "stdout",
     "output_type": "stream",
     "text": [
      "Generated 64 images of size torch.Size([3, 32, 32])\n",
      "文件夹不存在，跳过类 0：data/cwru/test\\0 或 data/cwru_rf_result/cwru_sampler_br1_5_500epoch\\0\n",
      "文件夹不存在，跳过类 1：data/cwru/test\\1 或 data/cwru_rf_result/cwru_sampler_br1_5_500epoch\\1\n",
      "文件夹不存在，跳过类 2：data/cwru/test\\2 或 data/cwru_rf_result/cwru_sampler_br1_5_500epoch\\2\n",
      "文件夹不存在，跳过类 3：data/cwru/test\\3 或 data/cwru_rf_result/cwru_sampler_br1_5_500epoch\\3\n",
      "文件夹不存在，跳过类 4：data/cwru/test\\4 或 data/cwru_rf_result/cwru_sampler_br1_5_500epoch\\4\n",
      "文件夹不存在，跳过类 5：data/cwru/test\\5 或 data/cwru_rf_result/cwru_sampler_br1_5_500epoch\\5\n",
      "文件夹不存在，跳过类 6：data/cwru/test\\6 或 data/cwru_rf_result/cwru_sampler_br1_5_500epoch\\6\n",
      "文件夹不存在，跳过类 7：data/cwru/test\\7 或 data/cwru_rf_result/cwru_sampler_br1_5_500epoch\\7\n",
      "文件夹不存在，跳过类 8：data/cwru/test\\8 或 data/cwru_rf_result/cwru_sampler_br1_5_500epoch\\8\n",
      "文件夹不存在，跳过类 9：data/cwru/test\\9 或 data/cwru_rf_result/cwru_sampler_br1_5_500epoch\\9\n",
      "共删除 0 张生成图片。\n",
      "检查图像数量：data/cwru_rf_result/cwru_sampler_br1_5_500epoch\n",
      "类别 0 图像数: 64\n",
      "类别 1 图像数: 64\n",
      "类别 2 图像数: 64\n",
      "类别 3 图像数: 64\n",
      "类别 4 图像数: 64\n",
      "类别 5 图像数: 64\n",
      "类别 6 图像数: 64\n",
      "类别 7 图像数: 64\n",
      "类别 8 图像数: 64\n",
      "类别 9 图像数: 64\n"
     ]
    }
   ],
   "source": [
    "args = generator_parse_option()\n",
    "generate(args)"
   ]
  },
  {
   "cell_type": "code",
   "execution_count": null,
   "id": "3ea5333e-9928-41d1-96c3-61dbff23f573",
   "metadata": {},
   "outputs": [],
   "source": []
  }
 ],
 "metadata": {
  "kernelspec": {
   "display_name": "Python 3 (ipykernel)",
   "language": "python",
   "name": "python3"
  },
  "language_info": {
   "codemirror_mode": {
    "name": "ipython",
    "version": 3
   },
   "file_extension": ".py",
   "mimetype": "text/x-python",
   "name": "python",
   "nbconvert_exporter": "python",
   "pygments_lexer": "ipython3",
   "version": "3.9.13"
  }
 },
 "nbformat": 4,
 "nbformat_minor": 5
}
